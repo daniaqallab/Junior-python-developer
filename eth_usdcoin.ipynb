{
  "nbformat": 4,
  "nbformat_minor": 0,
  "metadata": {
    "colab": {
      "provenance": [],
      "toc_visible": true
    },
    "kernelspec": {
      "name": "python3",
      "display_name": "Python 3"
    },
    "language_info": {
      "name": "python"
    }
  },
  "cells": [
    {
      "cell_type": "code",
      "execution_count": null,
      "metadata": {
        "colab": {
          "base_uri": "https://localhost:8080/"
        },
        "id": "KVI5pDgJrS5d",
        "outputId": "bcff08a9-cf73-4029-85c5-6b0747fa5dd9"
      },
      "outputs": [
        {
          "output_type": "stream",
          "name": "stdout",
          "text": [
            "--2022-11-29 14:16:09--  https://www.dropbox.com/s/rxg88n4s4t0bg6z/all-cryptocurrencies-price-20152021.zip\n",
            "Resolving www.dropbox.com (www.dropbox.com)... 162.125.65.18, 2620:100:6017:18::a27d:212\n",
            "Connecting to www.dropbox.com (www.dropbox.com)|162.125.65.18|:443... connected.\n",
            "HTTP request sent, awaiting response... 302 Found\n",
            "Location: /s/raw/rxg88n4s4t0bg6z/all-cryptocurrencies-price-20152021.zip [following]\n",
            "--2022-11-29 14:16:10--  https://www.dropbox.com/s/raw/rxg88n4s4t0bg6z/all-cryptocurrencies-price-20152021.zip\n",
            "Reusing existing connection to www.dropbox.com:443.\n",
            "HTTP request sent, awaiting response... 302 Found\n",
            "Location: https://uc01ce9dd8fa577b9f90d9262971.dl.dropboxusercontent.com/cd/0/inline/BxpGoRn0lNe_WEeYOMtvGk56Se5XhxcdDEkklglTeTvr8LhPCZeo9pvsfxEqSDvNrsPdxHCn_DqkIrpG_4nbuGAzZousBtSO3SzlYOmMSapHpkaGsCE2PhB-GIv4Mc0dOZnodQlouDCecQ3njhJcDFTkkJuiYIpTmOmMcMt2gRO77w/file# [following]\n",
            "--2022-11-29 14:16:11--  https://uc01ce9dd8fa577b9f90d9262971.dl.dropboxusercontent.com/cd/0/inline/BxpGoRn0lNe_WEeYOMtvGk56Se5XhxcdDEkklglTeTvr8LhPCZeo9pvsfxEqSDvNrsPdxHCn_DqkIrpG_4nbuGAzZousBtSO3SzlYOmMSapHpkaGsCE2PhB-GIv4Mc0dOZnodQlouDCecQ3njhJcDFTkkJuiYIpTmOmMcMt2gRO77w/file\n",
            "Resolving uc01ce9dd8fa577b9f90d9262971.dl.dropboxusercontent.com (uc01ce9dd8fa577b9f90d9262971.dl.dropboxusercontent.com)... 162.125.2.15, 2620:100:6017:15::a27d:20f\n",
            "Connecting to uc01ce9dd8fa577b9f90d9262971.dl.dropboxusercontent.com (uc01ce9dd8fa577b9f90d9262971.dl.dropboxusercontent.com)|162.125.2.15|:443... connected.\n",
            "HTTP request sent, awaiting response... 302 Found\n",
            "Location: /cd/0/inline2/Bxr-NF0M3Gb386LaJIUaZdMj8_aV7rAqKAClzc4xrZXuzH5df7NThk2SyslzVL_iz-pz5eJNZ88EXM9nIev-fuMTxXNzrhQBz0T8nhBLfugaoOcKfaRAHVBglPmJH-tXQ01EhvidlPzqu_WlLhtQ9vSd5ypoFZZsHrbJyzV1-iK5PMdSK0sV96uwe75PWEErlRt3C4oUJ5mMqBbtEPTC056ZP4ZfCX8QutyyyZmVAHvWJR9rfQI5SB1AQ4nFwV_DYuvAW8y51phP98NAe80Iffe9Qcyw73v9KJTS7OIj_CN_UQ0WJCDrZNQvBXjGjE6eOJnFWHKtEUt72by0ehX6Pr6VmVsVrSJwLapx1g3iDOhZ0UVowk-Q2Ps6UKP7bRRsfpg4Z9osrP2KIVrhSek8M2Oc1wuPuPXO8VfXIu6FtjIMTw/file [following]\n",
            "--2022-11-29 14:16:11--  https://uc01ce9dd8fa577b9f90d9262971.dl.dropboxusercontent.com/cd/0/inline2/Bxr-NF0M3Gb386LaJIUaZdMj8_aV7rAqKAClzc4xrZXuzH5df7NThk2SyslzVL_iz-pz5eJNZ88EXM9nIev-fuMTxXNzrhQBz0T8nhBLfugaoOcKfaRAHVBglPmJH-tXQ01EhvidlPzqu_WlLhtQ9vSd5ypoFZZsHrbJyzV1-iK5PMdSK0sV96uwe75PWEErlRt3C4oUJ5mMqBbtEPTC056ZP4ZfCX8QutyyyZmVAHvWJR9rfQI5SB1AQ4nFwV_DYuvAW8y51phP98NAe80Iffe9Qcyw73v9KJTS7OIj_CN_UQ0WJCDrZNQvBXjGjE6eOJnFWHKtEUt72by0ehX6Pr6VmVsVrSJwLapx1g3iDOhZ0UVowk-Q2Ps6UKP7bRRsfpg4Z9osrP2KIVrhSek8M2Oc1wuPuPXO8VfXIu6FtjIMTw/file\n",
            "Reusing existing connection to uc01ce9dd8fa577b9f90d9262971.dl.dropboxusercontent.com:443.\n",
            "HTTP request sent, awaiting response... 200 OK\n",
            "Length: 368078 (359K) [application/zip]\n",
            "Saving to: ‘all-cryptocurrencies-price-20152021.zip’\n",
            "\n",
            "all-cryptocurrencie 100%[===================>] 359.45K  --.-KB/s    in 0.03s   \n",
            "\n",
            "2022-11-29 14:16:11 (12.2 MB/s) - ‘all-cryptocurrencies-price-20152021.zip’ saved [368078/368078]\n",
            "\n"
          ]
        }
      ],
      "source": [
        "!wget https://www.dropbox.com/s/rxg88n4s4t0bg6z/all-cryptocurrencies-price-20152021.zip\n"
      ]
    },
    {
      "cell_type": "code",
      "source": [
        "!unzip all-cryptocurrencies-price-20152021.zip\n"
      ],
      "metadata": {
        "colab": {
          "base_uri": "https://localhost:8080/"
        },
        "id": "6SYF4UnJrthK",
        "outputId": "75d54f9a-26c3-44ca-d99a-3b596d39c21d"
      },
      "execution_count": null,
      "outputs": [
        {
          "output_type": "stream",
          "name": "stdout",
          "text": [
            "Archive:  all-cryptocurrencies-price-20152021.zip\n",
            "  inflating: BinanceCoin/BNB-USD.csv  \n",
            "  inflating: Bitcoin/BTC-USD.csv     \n",
            "  inflating: Cardano/ADA-USD.csv     \n",
            "  inflating: Dogecoin/DOGE-USD.csv   \n",
            "  inflating: Ethereum/ETH-USD.csv    \n",
            "  inflating: HEX/HEX-USD.csv         \n",
            "  inflating: Polkadot/DOT1-USD.csv   \n",
            "  inflating: Solana/SOL1-USD.csv     \n",
            "  inflating: Tether/USDT-USD.csv     \n",
            "  inflating: USDCoin/USDC-USD.csv    \n",
            "  inflating: XRP/XRP-USD.csv         \n"
          ]
        }
      ]
    },
    {
      "cell_type": "code",
      "source": [
        "import pandas as pd"
      ],
      "metadata": {
        "id": "y79JpadZwTpk"
      },
      "execution_count": null,
      "outputs": []
    },
    {
      "cell_type": "code",
      "source": [
        "!pip install colorama"
      ],
      "metadata": {
        "colab": {
          "base_uri": "https://localhost:8080/"
        },
        "id": "oQy-74gFis0p",
        "outputId": "0df3c2ca-1b38-40a2-a8e2-ea800114a172"
      },
      "execution_count": null,
      "outputs": [
        {
          "output_type": "stream",
          "name": "stdout",
          "text": [
            "Looking in indexes: https://pypi.org/simple, https://us-python.pkg.dev/colab-wheels/public/simple/\n",
            "Collecting colorama\n",
            "  Downloading colorama-0.4.6-py2.py3-none-any.whl (25 kB)\n",
            "Installing collected packages: colorama\n",
            "Successfully installed colorama-0.4.6\n"
          ]
        }
      ]
    },
    {
      "cell_type": "code",
      "source": [
        "import os\n",
        "import pandas as pd\n",
        "import numpy as np\n",
        "import math\n",
        "import datetime as dt\n",
        "\n",
        "from sklearn.metrics import mean_squared_error, mean_absolute_error, explained_variance_score, r2_score \n",
        "from sklearn.metrics import mean_poisson_deviance, mean_gamma_deviance, accuracy_score\n",
        "from sklearn.preprocessing import MinMaxScaler\n",
        "\n",
        "from itertools import cycle\n",
        "import plotly.graph_objects as go\n",
        "import plotly.express as px\n",
        "from plotly.subplots import make_subplots\n",
        "\n",
        "import seaborn as sns \n",
        "import matplotlib.pyplot as plt \n",
        "from colorama import Fore"
      ],
      "metadata": {
        "id": "dSDueGgdipXI"
      },
      "execution_count": null,
      "outputs": []
    },
    {
      "cell_type": "code",
      "source": [
        "ethcoindf = pd.read_csv('Ethereum/ETH-USD.csv')\n",
        "ethcoindf = ethcoindf.rename(columns={'Date': 'date','Open':'open','High':'high','Low':'low','Close':'close',\n",
        "                                'Adj Close':'adj_close','Volume':'volume'})\n",
        "ethcoindf.head()"
      ],
      "metadata": {
        "colab": {
          "base_uri": "https://localhost:8080/",
          "height": 206
        },
        "id": "2tZ0EXyqipUw",
        "outputId": "1f15d821-0c82-4d5a-e3d1-656c3a0f68e9"
      },
      "execution_count": null,
      "outputs": [
        {
          "output_type": "execute_result",
          "data": {
            "text/plain": [
              "         date      open      high       low     close  adj_close    volume\n",
              "0  2015-09-13  1.041780  1.042700  0.902832  0.936003   0.936003  644138.0\n",
              "1  2015-09-14  0.940566  0.949387  0.871760  0.875622   0.875622  741085.0\n",
              "2  2015-09-15  0.875189  1.045540  0.875189  0.944410   0.944410  703390.0\n",
              "3  2015-09-16  0.941977  0.952698  0.901639  0.907175   0.907175  615593.0\n",
              "4  2015-09-17  0.906865  0.909204  0.831132  0.874231   0.874231  897940.0"
            ],
            "text/html": [
              "\n",
              "  <div id=\"df-cb917ce1-ebfe-483f-8e93-c64d37990ce6\">\n",
              "    <div class=\"colab-df-container\">\n",
              "      <div>\n",
              "<style scoped>\n",
              "    .dataframe tbody tr th:only-of-type {\n",
              "        vertical-align: middle;\n",
              "    }\n",
              "\n",
              "    .dataframe tbody tr th {\n",
              "        vertical-align: top;\n",
              "    }\n",
              "\n",
              "    .dataframe thead th {\n",
              "        text-align: right;\n",
              "    }\n",
              "</style>\n",
              "<table border=\"1\" class=\"dataframe\">\n",
              "  <thead>\n",
              "    <tr style=\"text-align: right;\">\n",
              "      <th></th>\n",
              "      <th>date</th>\n",
              "      <th>open</th>\n",
              "      <th>high</th>\n",
              "      <th>low</th>\n",
              "      <th>close</th>\n",
              "      <th>adj_close</th>\n",
              "      <th>volume</th>\n",
              "    </tr>\n",
              "  </thead>\n",
              "  <tbody>\n",
              "    <tr>\n",
              "      <th>0</th>\n",
              "      <td>2015-09-13</td>\n",
              "      <td>1.041780</td>\n",
              "      <td>1.042700</td>\n",
              "      <td>0.902832</td>\n",
              "      <td>0.936003</td>\n",
              "      <td>0.936003</td>\n",
              "      <td>644138.0</td>\n",
              "    </tr>\n",
              "    <tr>\n",
              "      <th>1</th>\n",
              "      <td>2015-09-14</td>\n",
              "      <td>0.940566</td>\n",
              "      <td>0.949387</td>\n",
              "      <td>0.871760</td>\n",
              "      <td>0.875622</td>\n",
              "      <td>0.875622</td>\n",
              "      <td>741085.0</td>\n",
              "    </tr>\n",
              "    <tr>\n",
              "      <th>2</th>\n",
              "      <td>2015-09-15</td>\n",
              "      <td>0.875189</td>\n",
              "      <td>1.045540</td>\n",
              "      <td>0.875189</td>\n",
              "      <td>0.944410</td>\n",
              "      <td>0.944410</td>\n",
              "      <td>703390.0</td>\n",
              "    </tr>\n",
              "    <tr>\n",
              "      <th>3</th>\n",
              "      <td>2015-09-16</td>\n",
              "      <td>0.941977</td>\n",
              "      <td>0.952698</td>\n",
              "      <td>0.901639</td>\n",
              "      <td>0.907175</td>\n",
              "      <td>0.907175</td>\n",
              "      <td>615593.0</td>\n",
              "    </tr>\n",
              "    <tr>\n",
              "      <th>4</th>\n",
              "      <td>2015-09-17</td>\n",
              "      <td>0.906865</td>\n",
              "      <td>0.909204</td>\n",
              "      <td>0.831132</td>\n",
              "      <td>0.874231</td>\n",
              "      <td>0.874231</td>\n",
              "      <td>897940.0</td>\n",
              "    </tr>\n",
              "  </tbody>\n",
              "</table>\n",
              "</div>\n",
              "      <button class=\"colab-df-convert\" onclick=\"convertToInteractive('df-cb917ce1-ebfe-483f-8e93-c64d37990ce6')\"\n",
              "              title=\"Convert this dataframe to an interactive table.\"\n",
              "              style=\"display:none;\">\n",
              "        \n",
              "  <svg xmlns=\"http://www.w3.org/2000/svg\" height=\"24px\"viewBox=\"0 0 24 24\"\n",
              "       width=\"24px\">\n",
              "    <path d=\"M0 0h24v24H0V0z\" fill=\"none\"/>\n",
              "    <path d=\"M18.56 5.44l.94 2.06.94-2.06 2.06-.94-2.06-.94-.94-2.06-.94 2.06-2.06.94zm-11 1L8.5 8.5l.94-2.06 2.06-.94-2.06-.94L8.5 2.5l-.94 2.06-2.06.94zm10 10l.94 2.06.94-2.06 2.06-.94-2.06-.94-.94-2.06-.94 2.06-2.06.94z\"/><path d=\"M17.41 7.96l-1.37-1.37c-.4-.4-.92-.59-1.43-.59-.52 0-1.04.2-1.43.59L10.3 9.45l-7.72 7.72c-.78.78-.78 2.05 0 2.83L4 21.41c.39.39.9.59 1.41.59.51 0 1.02-.2 1.41-.59l7.78-7.78 2.81-2.81c.8-.78.8-2.07 0-2.86zM5.41 20L4 18.59l7.72-7.72 1.47 1.35L5.41 20z\"/>\n",
              "  </svg>\n",
              "      </button>\n",
              "      \n",
              "  <style>\n",
              "    .colab-df-container {\n",
              "      display:flex;\n",
              "      flex-wrap:wrap;\n",
              "      gap: 12px;\n",
              "    }\n",
              "\n",
              "    .colab-df-convert {\n",
              "      background-color: #E8F0FE;\n",
              "      border: none;\n",
              "      border-radius: 50%;\n",
              "      cursor: pointer;\n",
              "      display: none;\n",
              "      fill: #1967D2;\n",
              "      height: 32px;\n",
              "      padding: 0 0 0 0;\n",
              "      width: 32px;\n",
              "    }\n",
              "\n",
              "    .colab-df-convert:hover {\n",
              "      background-color: #E2EBFA;\n",
              "      box-shadow: 0px 1px 2px rgba(60, 64, 67, 0.3), 0px 1px 3px 1px rgba(60, 64, 67, 0.15);\n",
              "      fill: #174EA6;\n",
              "    }\n",
              "\n",
              "    [theme=dark] .colab-df-convert {\n",
              "      background-color: #3B4455;\n",
              "      fill: #D2E3FC;\n",
              "    }\n",
              "\n",
              "    [theme=dark] .colab-df-convert:hover {\n",
              "      background-color: #434B5C;\n",
              "      box-shadow: 0px 1px 3px 1px rgba(0, 0, 0, 0.15);\n",
              "      filter: drop-shadow(0px 1px 2px rgba(0, 0, 0, 0.3));\n",
              "      fill: #FFFFFF;\n",
              "    }\n",
              "  </style>\n",
              "\n",
              "      <script>\n",
              "        const buttonEl =\n",
              "          document.querySelector('#df-cb917ce1-ebfe-483f-8e93-c64d37990ce6 button.colab-df-convert');\n",
              "        buttonEl.style.display =\n",
              "          google.colab.kernel.accessAllowed ? 'block' : 'none';\n",
              "\n",
              "        async function convertToInteractive(key) {\n",
              "          const element = document.querySelector('#df-cb917ce1-ebfe-483f-8e93-c64d37990ce6');\n",
              "          const dataTable =\n",
              "            await google.colab.kernel.invokeFunction('convertToInteractive',\n",
              "                                                     [key], {});\n",
              "          if (!dataTable) return;\n",
              "\n",
              "          const docLinkHtml = 'Like what you see? Visit the ' +\n",
              "            '<a target=\"_blank\" href=https://colab.research.google.com/notebooks/data_table.ipynb>data table notebook</a>'\n",
              "            + ' to learn more about interactive tables.';\n",
              "          element.innerHTML = '';\n",
              "          dataTable['output_type'] = 'display_data';\n",
              "          await google.colab.output.renderOutput(dataTable, element);\n",
              "          const docLink = document.createElement('div');\n",
              "          docLink.innerHTML = docLinkHtml;\n",
              "          element.appendChild(docLink);\n",
              "        }\n",
              "      </script>\n",
              "    </div>\n",
              "  </div>\n",
              "  "
            ]
          },
          "metadata": {},
          "execution_count": 3
        }
      ]
    },
    {
      "cell_type": "code",
      "source": [
        "usdcoindf = pd.read_csv('USDCoin/USDC-USD.csv')\n",
        "usdcoindf = usdcoindf.rename(columns={'Date': 'date','Open':'open','High':'high','Low':'low','Close':'close',\n",
        "                                'Adj Close':'adj_close','Volume':'volume'})\n",
        "usdcoindf.head()"
      ],
      "metadata": {
        "colab": {
          "base_uri": "https://localhost:8080/",
          "height": 206
        },
        "id": "cKBkzm2rjWmh",
        "outputId": "f223d0ee-1ee5-46aa-94ec-0cb69204c7c0"
      },
      "execution_count": null,
      "outputs": [
        {
          "output_type": "execute_result",
          "data": {
            "text/plain": [
              "         date      open      high       low     close  adj_close       volume\n",
              "0  2019-09-13  0.999028  1.006490  0.997497  0.998835   0.998835  159607257.0\n",
              "1  2019-09-14  0.999584  1.004739  0.998116  0.999346   0.999346  146591060.0\n",
              "2  2019-09-15  0.999346  1.006140  0.998562  1.003387   1.003387  108479017.0\n",
              "3  2019-09-16  1.003133  1.010504  0.995350  0.999926   0.999926  303681510.0\n",
              "4  2019-09-17  1.000015  1.006766  0.998124  1.003121   1.003121  171423477.0"
            ],
            "text/html": [
              "\n",
              "  <div id=\"df-69ae7872-87bb-4594-b255-96e9c78eaa28\">\n",
              "    <div class=\"colab-df-container\">\n",
              "      <div>\n",
              "<style scoped>\n",
              "    .dataframe tbody tr th:only-of-type {\n",
              "        vertical-align: middle;\n",
              "    }\n",
              "\n",
              "    .dataframe tbody tr th {\n",
              "        vertical-align: top;\n",
              "    }\n",
              "\n",
              "    .dataframe thead th {\n",
              "        text-align: right;\n",
              "    }\n",
              "</style>\n",
              "<table border=\"1\" class=\"dataframe\">\n",
              "  <thead>\n",
              "    <tr style=\"text-align: right;\">\n",
              "      <th></th>\n",
              "      <th>date</th>\n",
              "      <th>open</th>\n",
              "      <th>high</th>\n",
              "      <th>low</th>\n",
              "      <th>close</th>\n",
              "      <th>adj_close</th>\n",
              "      <th>volume</th>\n",
              "    </tr>\n",
              "  </thead>\n",
              "  <tbody>\n",
              "    <tr>\n",
              "      <th>0</th>\n",
              "      <td>2019-09-13</td>\n",
              "      <td>0.999028</td>\n",
              "      <td>1.006490</td>\n",
              "      <td>0.997497</td>\n",
              "      <td>0.998835</td>\n",
              "      <td>0.998835</td>\n",
              "      <td>159607257.0</td>\n",
              "    </tr>\n",
              "    <tr>\n",
              "      <th>1</th>\n",
              "      <td>2019-09-14</td>\n",
              "      <td>0.999584</td>\n",
              "      <td>1.004739</td>\n",
              "      <td>0.998116</td>\n",
              "      <td>0.999346</td>\n",
              "      <td>0.999346</td>\n",
              "      <td>146591060.0</td>\n",
              "    </tr>\n",
              "    <tr>\n",
              "      <th>2</th>\n",
              "      <td>2019-09-15</td>\n",
              "      <td>0.999346</td>\n",
              "      <td>1.006140</td>\n",
              "      <td>0.998562</td>\n",
              "      <td>1.003387</td>\n",
              "      <td>1.003387</td>\n",
              "      <td>108479017.0</td>\n",
              "    </tr>\n",
              "    <tr>\n",
              "      <th>3</th>\n",
              "      <td>2019-09-16</td>\n",
              "      <td>1.003133</td>\n",
              "      <td>1.010504</td>\n",
              "      <td>0.995350</td>\n",
              "      <td>0.999926</td>\n",
              "      <td>0.999926</td>\n",
              "      <td>303681510.0</td>\n",
              "    </tr>\n",
              "    <tr>\n",
              "      <th>4</th>\n",
              "      <td>2019-09-17</td>\n",
              "      <td>1.000015</td>\n",
              "      <td>1.006766</td>\n",
              "      <td>0.998124</td>\n",
              "      <td>1.003121</td>\n",
              "      <td>1.003121</td>\n",
              "      <td>171423477.0</td>\n",
              "    </tr>\n",
              "  </tbody>\n",
              "</table>\n",
              "</div>\n",
              "      <button class=\"colab-df-convert\" onclick=\"convertToInteractive('df-69ae7872-87bb-4594-b255-96e9c78eaa28')\"\n",
              "              title=\"Convert this dataframe to an interactive table.\"\n",
              "              style=\"display:none;\">\n",
              "        \n",
              "  <svg xmlns=\"http://www.w3.org/2000/svg\" height=\"24px\"viewBox=\"0 0 24 24\"\n",
              "       width=\"24px\">\n",
              "    <path d=\"M0 0h24v24H0V0z\" fill=\"none\"/>\n",
              "    <path d=\"M18.56 5.44l.94 2.06.94-2.06 2.06-.94-2.06-.94-.94-2.06-.94 2.06-2.06.94zm-11 1L8.5 8.5l.94-2.06 2.06-.94-2.06-.94L8.5 2.5l-.94 2.06-2.06.94zm10 10l.94 2.06.94-2.06 2.06-.94-2.06-.94-.94-2.06-.94 2.06-2.06.94z\"/><path d=\"M17.41 7.96l-1.37-1.37c-.4-.4-.92-.59-1.43-.59-.52 0-1.04.2-1.43.59L10.3 9.45l-7.72 7.72c-.78.78-.78 2.05 0 2.83L4 21.41c.39.39.9.59 1.41.59.51 0 1.02-.2 1.41-.59l7.78-7.78 2.81-2.81c.8-.78.8-2.07 0-2.86zM5.41 20L4 18.59l7.72-7.72 1.47 1.35L5.41 20z\"/>\n",
              "  </svg>\n",
              "      </button>\n",
              "      \n",
              "  <style>\n",
              "    .colab-df-container {\n",
              "      display:flex;\n",
              "      flex-wrap:wrap;\n",
              "      gap: 12px;\n",
              "    }\n",
              "\n",
              "    .colab-df-convert {\n",
              "      background-color: #E8F0FE;\n",
              "      border: none;\n",
              "      border-radius: 50%;\n",
              "      cursor: pointer;\n",
              "      display: none;\n",
              "      fill: #1967D2;\n",
              "      height: 32px;\n",
              "      padding: 0 0 0 0;\n",
              "      width: 32px;\n",
              "    }\n",
              "\n",
              "    .colab-df-convert:hover {\n",
              "      background-color: #E2EBFA;\n",
              "      box-shadow: 0px 1px 2px rgba(60, 64, 67, 0.3), 0px 1px 3px 1px rgba(60, 64, 67, 0.15);\n",
              "      fill: #174EA6;\n",
              "    }\n",
              "\n",
              "    [theme=dark] .colab-df-convert {\n",
              "      background-color: #3B4455;\n",
              "      fill: #D2E3FC;\n",
              "    }\n",
              "\n",
              "    [theme=dark] .colab-df-convert:hover {\n",
              "      background-color: #434B5C;\n",
              "      box-shadow: 0px 1px 3px 1px rgba(0, 0, 0, 0.15);\n",
              "      filter: drop-shadow(0px 1px 2px rgba(0, 0, 0, 0.3));\n",
              "      fill: #FFFFFF;\n",
              "    }\n",
              "  </style>\n",
              "\n",
              "      <script>\n",
              "        const buttonEl =\n",
              "          document.querySelector('#df-69ae7872-87bb-4594-b255-96e9c78eaa28 button.colab-df-convert');\n",
              "        buttonEl.style.display =\n",
              "          google.colab.kernel.accessAllowed ? 'block' : 'none';\n",
              "\n",
              "        async function convertToInteractive(key) {\n",
              "          const element = document.querySelector('#df-69ae7872-87bb-4594-b255-96e9c78eaa28');\n",
              "          const dataTable =\n",
              "            await google.colab.kernel.invokeFunction('convertToInteractive',\n",
              "                                                     [key], {});\n",
              "          if (!dataTable) return;\n",
              "\n",
              "          const docLinkHtml = 'Like what you see? Visit the ' +\n",
              "            '<a target=\"_blank\" href=https://colab.research.google.com/notebooks/data_table.ipynb>data table notebook</a>'\n",
              "            + ' to learn more about interactive tables.';\n",
              "          element.innerHTML = '';\n",
              "          dataTable['output_type'] = 'display_data';\n",
              "          await google.colab.output.renderOutput(dataTable, element);\n",
              "          const docLink = document.createElement('div');\n",
              "          docLink.innerHTML = docLinkHtml;\n",
              "          element.appendChild(docLink);\n",
              "        }\n",
              "      </script>\n",
              "    </div>\n",
              "  </div>\n",
              "  "
            ]
          },
          "metadata": {},
          "execution_count": 4
        }
      ]
    },
    {
      "cell_type": "markdown",
      "source": [
        "# ETH"
      ],
      "metadata": {
        "id": "nURzW9y3wPb9"
      }
    },
    {
      "cell_type": "code",
      "source": [
        "closedf = ethcoindf[['date','close']]\n",
        "print(\"Shape of close dataframe:\", closedf.shape)"
      ],
      "metadata": {
        "colab": {
          "base_uri": "https://localhost:8080/"
        },
        "id": "tCoYda_1sJS4",
        "outputId": "3fe2676a-44a8-455e-8727-b36c1a699973"
      },
      "execution_count": null,
      "outputs": [
        {
          "output_type": "stream",
          "name": "stdout",
          "text": [
            "Shape of close dataframe: (2193, 2)\n"
          ]
        }
      ]
    },
    {
      "cell_type": "code",
      "source": [
        "closedf=closedf.dropna()"
      ],
      "metadata": {
        "id": "e-Ym_P20tBdP"
      },
      "execution_count": null,
      "outputs": []
    },
    {
      "cell_type": "code",
      "source": [
        "#closedf = closedf[closedf['date'] > '2020-09-13']\n",
        "close_stock = closedf.copy()\n",
        "print(\"Total data for prediction: \",closedf.shape[0])"
      ],
      "metadata": {
        "colab": {
          "base_uri": "https://localhost:8080/"
        },
        "id": "JDH6MamFsMNd",
        "outputId": "4841e69c-a659-45b3-f92a-34e823be3f32"
      },
      "execution_count": null,
      "outputs": [
        {
          "output_type": "stream",
          "name": "stdout",
          "text": [
            "Total data for prediction:  2189\n"
          ]
        }
      ]
    },
    {
      "cell_type": "code",
      "source": [
        "del closedf['date']\n",
        "scaler=MinMaxScaler(feature_range=(0,1))\n",
        "closedf=scaler.fit_transform(np.array(closedf).reshape(-1,1))\n",
        "print(closedf.shape)"
      ],
      "metadata": {
        "colab": {
          "base_uri": "https://localhost:8080/"
        },
        "id": "A-sx4NV_sPut",
        "outputId": "0268b8bc-c434-41d2-ff5d-122ab233e76d"
      },
      "execution_count": null,
      "outputs": [
        {
          "output_type": "stream",
          "name": "stdout",
          "text": [
            "(2189, 1)\n"
          ]
        }
      ]
    },
    {
      "cell_type": "code",
      "source": [
        "training_size=int(len(closedf)*0.70)\n",
        "test_size=len(closedf)-training_size\n",
        "train_data,test_data=closedf[0:training_size,:],closedf[training_size:len(closedf),:1]\n",
        "print(\"train_data: \", train_data.shape)\n",
        "print(\"test_data: \", test_data.shape)"
      ],
      "metadata": {
        "colab": {
          "base_uri": "https://localhost:8080/"
        },
        "id": "xhEzNeJmsRpt",
        "outputId": "d43dc54f-6c87-4db9-96fd-01b7e45ae207"
      },
      "execution_count": null,
      "outputs": [
        {
          "output_type": "stream",
          "name": "stdout",
          "text": [
            "train_data:  (1532, 1)\n",
            "test_data:  (657, 1)\n"
          ]
        }
      ]
    },
    {
      "cell_type": "code",
      "source": [
        "fig, ax = plt.subplots(figsize=(15, 6))\n",
        "sns.lineplot(x = close_stock['date'][:1255], y = close_stock['close'][:1255], color = 'black')\n",
        "sns.lineplot(x = close_stock['date'][1255:], y = close_stock['close'][1255:], color = 'red')\n",
        "\n",
        "# Formatting\n",
        "ax.set_title('Train & Test data', fontsize = 20, loc='center', fontdict=dict(weight='bold'))\n",
        "ax.set_xlabel('Date', fontsize = 16, fontdict=dict(weight='bold'))\n",
        "ax.set_ylabel('Weekly Sales', fontsize = 16, fontdict=dict(weight='bold'))\n",
        "plt.tick_params(axis='y', which='major', labelsize=16)\n",
        "plt.tick_params(axis='x', which='major', labelsize=16)\n",
        "plt.legend(loc='upper right' ,labels = ('train', 'test'))"
      ],
      "metadata": {
        "colab": {
          "base_uri": "https://localhost:8080/",
          "height": 437
        },
        "id": "B4Q2ncEcsUDO",
        "outputId": "232623de-8cb8-4fea-a190-3cf8e2ca836d"
      },
      "execution_count": null,
      "outputs": [
        {
          "output_type": "execute_result",
          "data": {
            "text/plain": [
              "<matplotlib.legend.Legend at 0x7f2cc7fa2c50>"
            ]
          },
          "metadata": {},
          "execution_count": 10
        },
        {
          "output_type": "display_data",
          "data": {
            "text/plain": [
              "<Figure size 1080x432 with 1 Axes>"
            ],
            "image/png": "[encoded data removed]"
          },
          "metadata": {
            "needs_background": "light"
          }
        }
      ]
    },
    {
      "cell_type": "code",
      "source": [
        "# convert an array of values into a dataset matrix\n",
        "def create_dataset(dataset, time_step=1):\n",
        "    dataX, dataY = [], []\n",
        "    for i in range(len(dataset)-time_step-1):\n",
        "        a = dataset[i:(i+time_step), 0]   ###i=0, 0,1,2,3-----99   100 \n",
        "        dataX.append(a)\n",
        "        dataY.append(dataset[i + time_step, 0])\n",
        "    return np.array(dataX), np.array(dataY)"
      ],
      "metadata": {
        "id": "A04cQPtMsWDd"
      },
      "execution_count": null,
      "outputs": []
    },
    {
      "cell_type": "code",
      "source": [
        "time_step = 15\n",
        "X_train, y_train = create_dataset(train_data, time_step)\n",
        "X_test, y_test = create_dataset(test_data, time_step)\n",
        "\n",
        "print(\"X_train: \", X_train.shape)\n",
        "print(\"y_train: \", y_train.shape)\n",
        "print(\"X_test: \", X_test.shape)\n",
        "print(\"y_test\", y_test.shape)"
      ],
      "metadata": {
        "colab": {
          "base_uri": "https://localhost:8080/"
        },
        "id": "hsrllEv8sb89",
        "outputId": "3622f95a-ef5c-4ba4-ed79-7ea3a6a011e4"
      },
      "execution_count": null,
      "outputs": [
        {
          "output_type": "stream",
          "name": "stdout",
          "text": [
            "X_train:  (1516, 15)\n",
            "y_train:  (1516,)\n",
            "X_test:  (641, 15)\n",
            "y_test (641,)\n"
          ]
        }
      ]
    },
    {
      "cell_type": "code",
      "source": [
        "from sklearn.linear_model import LinearRegression\n",
        "from sklearn.linear_model import Ridge, Lasso\n",
        "from sklearn.metrics import mean_squared_error\n",
        "from sklearn.model_selection import train_test_split\n",
        "import numpy as np"
      ],
      "metadata": {
        "id": "iHzwdyDvwWzY"
      },
      "execution_count": null,
      "outputs": []
    },
    {
      "cell_type": "code",
      "source": [],
      "metadata": {
        "id": "Ly1eLG8rw5nw"
      },
      "execution_count": null,
      "outputs": []
    },
    {
      "cell_type": "markdown",
      "source": [
        "## LASSO"
      ],
      "metadata": {
        "id": "kmiM3lEQyBOi"
      }
    },
    {
      "cell_type": "code",
      "source": [
        "ls = Lasso()\n",
        "ls.fit(X_train, y_train)"
      ],
      "metadata": {
        "colab": {
          "base_uri": "https://localhost:8080/"
        },
        "outputId": "9430f67c-db69-4e84-d4dc-ff5b37a05b9f",
        "id": "D-6RDGpzlbft"
      },
      "execution_count": null,
      "outputs": [
        {
          "output_type": "execute_result",
          "data": {
            "text/plain": [
              "Lasso()"
            ]
          },
          "metadata": {},
          "execution_count": 15
        }
      ]
    },
    {
      "cell_type": "code",
      "source": [
        "pred = ls.predict(X_test)\n",
        "print(\"Mean Absolute Error - MAE : \" + str(mean_absolute_error(y_test, pred)))\n",
        "print(\"Root Mean squared Error - RMSE : \" + str(math.sqrt(mean_squared_error(y_test, pred))))"
      ],
      "metadata": {
        "colab": {
          "base_uri": "https://localhost:8080/"
        },
        "outputId": "6c48c49f-c789-499d-b48e-0a93789d8b91",
        "id": "7Mtxz6Xklbfu"
      },
      "execution_count": null,
      "outputs": [
        {
          "output_type": "stream",
          "name": "stdout",
          "text": [
            "Mean Absolute Error - MAE : 0.21428813759942086\n",
            "Root Mean squared Error - RMSE : 0.3336659969254003\n"
          ]
        }
      ]
    },
    {
      "cell_type": "markdown",
      "source": [
        "## RIDGE"
      ],
      "metadata": {
        "id": "oLXr3OM8x8LL"
      }
    },
    {
      "cell_type": "code",
      "source": [
        "rg = Ridge()\n",
        "rg.fit(X_train, y_train)"
      ],
      "metadata": {
        "colab": {
          "base_uri": "https://localhost:8080/"
        },
        "id": "jUSA-hXMioyb",
        "outputId": "72c1c7e0-fd27-4aa4-c5f8-cbb1592bec43"
      },
      "execution_count": null,
      "outputs": [
        {
          "output_type": "execute_result",
          "data": {
            "text/plain": [
              "Ridge()"
            ]
          },
          "metadata": {},
          "execution_count": 17
        }
      ]
    },
    {
      "cell_type": "code",
      "source": [
        "pred = rg.predict(X_test)\n",
        "print(\"Mean Absolute Error - MAE : \" + str(mean_absolute_error(y_test, pred)))\n",
        "print(\"Root Mean squared Error - RMSE : \" + str(math.sqrt(mean_squared_error(y_test, pred))))"
      ],
      "metadata": {
        "colab": {
          "base_uri": "https://localhost:8080/"
        },
        "id": "6M9KONUDkstV",
        "outputId": "56f4bf3d-ae11-4cb4-aa2a-690ea3c38f28"
      },
      "execution_count": null,
      "outputs": [
        {
          "output_type": "stream",
          "name": "stdout",
          "text": [
            "Mean Absolute Error - MAE : 0.021521864186174244\n",
            "Root Mean squared Error - RMSE : 0.03983542633763412\n"
          ]
        }
      ]
    },
    {
      "cell_type": "markdown",
      "source": [
        "## LinearRegression"
      ],
      "metadata": {
        "id": "hcu-wfPzyEar"
      }
    },
    {
      "cell_type": "code",
      "source": [
        "lg = LinearRegression()\n",
        "lg.fit(X_train, y_train)"
      ],
      "metadata": {
        "colab": {
          "base_uri": "https://localhost:8080/"
        },
        "outputId": "fdb3a111-ba21-4a7e-ce03-e13e59597c96",
        "id": "zB-8KhK1l9HK"
      },
      "execution_count": null,
      "outputs": [
        {
          "output_type": "execute_result",
          "data": {
            "text/plain": [
              "LinearRegression()"
            ]
          },
          "metadata": {},
          "execution_count": 19
        }
      ]
    },
    {
      "cell_type": "code",
      "source": [
        "pred = lg.predict(X_test)\n",
        "print(\"Mean Absolute Error - MAE : \" + str(mean_absolute_error(y_test, pred)))\n",
        "print(\"Root Mean squared Error - RMSE : \" + str(math.sqrt(mean_squared_error(y_test, pred))))"
      ],
      "metadata": {
        "colab": {
          "base_uri": "https://localhost:8080/"
        },
        "outputId": "c7c6c81b-1861-4c01-9d81-5352ecec9832",
        "id": "8hBD2hhcl9Hd"
      },
      "execution_count": null,
      "outputs": [
        {
          "output_type": "stream",
          "name": "stdout",
          "text": [
            "Mean Absolute Error - MAE : 0.011326802383617928\n",
            "Root Mean squared Error - RMSE : 0.022930090812842103\n"
          ]
        }
      ]
    },
    {
      "cell_type": "code",
      "source": [],
      "metadata": {
        "id": "oXnruKmgxdiL"
      },
      "execution_count": null,
      "outputs": []
    },
    {
      "cell_type": "markdown",
      "source": [
        "# ETH"
      ],
      "metadata": {
        "id": "Fd65QH5CxiCy"
      }
    },
    {
      "cell_type": "code",
      "source": [
        "closedf = usdcoindf[['date','close']]\n",
        "print(\"Shape of close dataframe:\", closedf.shape)"
      ],
      "metadata": {
        "colab": {
          "base_uri": "https://localhost:8080/"
        },
        "outputId": "8883e2ab-e6c4-40ad-d9b8-5224aa180716",
        "id": "vC5ZX-48xiCy"
      },
      "execution_count": null,
      "outputs": [
        {
          "output_type": "stream",
          "name": "stdout",
          "text": [
            "Shape of close dataframe: (732, 2)\n"
          ]
        }
      ]
    },
    {
      "cell_type": "code",
      "source": [
        "closedf=closedf.dropna()"
      ],
      "metadata": {
        "id": "cm-XeLnXxiCz"
      },
      "execution_count": null,
      "outputs": []
    },
    {
      "cell_type": "code",
      "source": [
        "#closedf = closedf[closedf['date'] > '2020-09-13']\n",
        "close_stock = closedf.copy()\n",
        "print(\"Total data for prediction: \",closedf.shape[0])"
      ],
      "metadata": {
        "colab": {
          "base_uri": "https://localhost:8080/"
        },
        "outputId": "746fadd8-5b93-4b54-99d7-acd3ba367e3b",
        "id": "swW8XwKUxiC0"
      },
      "execution_count": null,
      "outputs": [
        {
          "output_type": "stream",
          "name": "stdout",
          "text": [
            "Total data for prediction:  670\n"
          ]
        }
      ]
    },
    {
      "cell_type": "code",
      "source": [
        "del closedf['date']\n",
        "scaler=MinMaxScaler(feature_range=(0,1))\n",
        "closedf=scaler.fit_transform(np.array(closedf).reshape(-1,1))\n",
        "print(closedf.shape)"
      ],
      "metadata": {
        "colab": {
          "base_uri": "https://localhost:8080/"
        },
        "outputId": "4b661084-68f0-4aef-d33a-17fc91d1d43a",
        "id": "Ctk2lrBuxiC0"
      },
      "execution_count": null,
      "outputs": [
        {
          "output_type": "stream",
          "name": "stdout",
          "text": [
            "(670, 1)\n"
          ]
        }
      ]
    },
    {
      "cell_type": "code",
      "source": [
        "training_size=int(len(closedf)*0.70)\n",
        "test_size=len(closedf)-training_size\n",
        "train_data,test_data=closedf[0:training_size,:],closedf[training_size:len(closedf),:1]\n",
        "print(\"train_data: \", train_data.shape)\n",
        "print(\"test_data: \", test_data.shape)"
      ],
      "metadata": {
        "colab": {
          "base_uri": "https://localhost:8080/"
        },
        "outputId": "87a2eb6b-99e3-4bd6-b367-b642586a7078",
        "id": "F7vwi4HrxiC1"
      },
      "execution_count": null,
      "outputs": [
        {
          "output_type": "stream",
          "name": "stdout",
          "text": [
            "train_data:  (468, 1)\n",
            "test_data:  (202, 1)\n"
          ]
        }
      ]
    },
    {
      "cell_type": "code",
      "source": [
        "fig, ax = plt.subplots(figsize=(15, 6))\n",
        "sns.lineplot(x = close_stock['date'][:1255], y = close_stock['close'][:1255], color = 'black')\n",
        "sns.lineplot(x = close_stock['date'][1255:], y = close_stock['close'][1255:], color = 'red')\n",
        "\n",
        "# Formatting\n",
        "ax.set_title('Train & Test data', fontsize = 20, loc='center', fontdict=dict(weight='bold'))\n",
        "ax.set_xlabel('Date', fontsize = 16, fontdict=dict(weight='bold'))\n",
        "ax.set_ylabel('Weekly Sales', fontsize = 16, fontdict=dict(weight='bold'))\n",
        "plt.tick_params(axis='y', which='major', labelsize=16)\n",
        "plt.tick_params(axis='x', which='major', labelsize=16)\n",
        "plt.legend(loc='upper right' ,labels = ('train', 'test'))"
      ],
      "metadata": {
        "colab": {
          "base_uri": "https://localhost:8080/",
          "height": 437
        },
        "outputId": "a65e79ce-2f4f-4123-b0dd-ad6209cff0fc",
        "id": "ugKOf3MfxiC1"
      },
      "execution_count": null,
      "outputs": [
        {
          "output_type": "execute_result",
          "data": {
            "text/plain": [
              "<matplotlib.legend.Legend at 0x7f2cc2fdf910>"
            ]
          },
          "metadata": {},
          "execution_count": 26
        },
        {
          "output_type": "display_data",
          "data": {
            "text/plain": [
              "<Figure size 1080x432 with 1 Axes>"
            ],
            "image/png": "[encoded data removed]"
          },
          "metadata": {
            "needs_background": "light"
          }
        }
      ]
    },
    {
      "cell_type": "code",
      "source": [
        "# convert an array of values into a dataset matrix\n",
        "def create_dataset(dataset, time_step=1):\n",
        "    dataX, dataY = [], []\n",
        "    for i in range(len(dataset)-time_step-1):\n",
        "        a = dataset[i:(i+time_step), 0]   ###i=0, 0,1,2,3-----99   100 \n",
        "        dataX.append(a)\n",
        "        dataY.append(dataset[i + time_step, 0])\n",
        "    return np.array(dataX), np.array(dataY)"
      ],
      "metadata": {
        "id": "mq9FleIYxiC2"
      },
      "execution_count": null,
      "outputs": []
    },
    {
      "cell_type": "code",
      "source": [
        "time_step = 15\n",
        "X_train, y_train = create_dataset(train_data, time_step)\n",
        "X_test, y_test = create_dataset(test_data, time_step)\n",
        "\n",
        "print(\"X_train: \", X_train.shape)\n",
        "print(\"y_train: \", y_train.shape)\n",
        "print(\"X_test: \", X_test.shape)\n",
        "print(\"y_test\", y_test.shape)"
      ],
      "metadata": {
        "colab": {
          "base_uri": "https://localhost:8080/"
        },
        "outputId": "261b8223-af1b-46a3-c260-67c499edeceb",
        "id": "dX0WwyT6xiC3"
      },
      "execution_count": null,
      "outputs": [
        {
          "output_type": "stream",
          "name": "stdout",
          "text": [
            "X_train:  (452, 15)\n",
            "y_train:  (452,)\n",
            "X_test:  (186, 15)\n",
            "y_test (186,)\n"
          ]
        }
      ]
    },
    {
      "cell_type": "code",
      "source": [
        "from sklearn.linear_model import LinearRegression\n",
        "from sklearn.linear_model import Ridge, Lasso\n",
        "from sklearn.metrics import mean_squared_error\n",
        "from sklearn.model_selection import train_test_split\n",
        "import numpy as np"
      ],
      "metadata": {
        "id": "DT6_ay7ZxiC4"
      },
      "execution_count": null,
      "outputs": []
    },
    {
      "cell_type": "code",
      "source": [],
      "metadata": {
        "id": "8jiYhC8zxiC4"
      },
      "execution_count": null,
      "outputs": []
    },
    {
      "cell_type": "markdown",
      "source": [
        "## LASSO"
      ],
      "metadata": {
        "id": "NtuluAMzxiC5"
      }
    },
    {
      "cell_type": "code",
      "source": [
        "ls = Lasso()\n",
        "ls.fit(X_train, y_train)"
      ],
      "metadata": {
        "colab": {
          "base_uri": "https://localhost:8080/"
        },
        "outputId": "2b82cbcd-1589-4f2a-81f9-289bf46829fd",
        "id": "U_of0uoHxiC5"
      },
      "execution_count": null,
      "outputs": [
        {
          "output_type": "execute_result",
          "data": {
            "text/plain": [
              "Lasso()"
            ]
          },
          "metadata": {},
          "execution_count": 30
        }
      ]
    },
    {
      "cell_type": "code",
      "source": [
        "pred = ls.predict(X_test)\n",
        "print(\"Mean Absolute Error - MAE : \" + str(mean_absolute_error(y_test, pred)))\n",
        "print(\"Root Mean squared Error - RMSE : \" + str(math.sqrt(mean_squared_error(y_test, pred))))"
      ],
      "metadata": {
        "colab": {
          "base_uri": "https://localhost:8080/"
        },
        "outputId": "27c6bad3-655e-41d8-b278-9ee3beee6bb6",
        "id": "_J7QbHHrxiC5"
      },
      "execution_count": null,
      "outputs": [
        {
          "output_type": "stream",
          "name": "stdout",
          "text": [
            "Mean Absolute Error - MAE : 0.03111594825094074\n",
            "Root Mean squared Error - RMSE : 0.03248404907842939\n"
          ]
        }
      ]
    },
    {
      "cell_type": "markdown",
      "source": [
        "## RIDGE"
      ],
      "metadata": {
        "id": "R8bcQrVkxiC6"
      }
    },
    {
      "cell_type": "code",
      "source": [
        "rg = Ridge()\n",
        "rg.fit(X_train, y_train)"
      ],
      "metadata": {
        "colab": {
          "base_uri": "https://localhost:8080/"
        },
        "outputId": "46d4d050-27e5-4dbf-d123-30a27e6371db",
        "id": "91SvcTLhxiC7"
      },
      "execution_count": null,
      "outputs": [
        {
          "output_type": "execute_result",
          "data": {
            "text/plain": [
              "Ridge()"
            ]
          },
          "metadata": {},
          "execution_count": 32
        }
      ]
    },
    {
      "cell_type": "code",
      "source": [
        "pred = rg.predict(X_test)\n",
        "print(\"Mean Absolute Error - MAE : \" + str(mean_absolute_error(y_test, pred)))\n",
        "print(\"Root Mean squared Error - RMSE : \" + str(math.sqrt(mean_squared_error(y_test, pred))))"
      ],
      "metadata": {
        "colab": {
          "base_uri": "https://localhost:8080/"
        },
        "outputId": "4ce79947-4397-4d01-b26f-118c3fe30f0d",
        "id": "d_t26UTexiC7"
      },
      "execution_count": null,
      "outputs": [
        {
          "output_type": "stream",
          "name": "stdout",
          "text": [
            "Mean Absolute Error - MAE : 0.008871334252354923\n",
            "Root Mean squared Error - RMSE : 0.014336842668766218\n"
          ]
        }
      ]
    },
    {
      "cell_type": "markdown",
      "source": [
        "## LinearRegression"
      ],
      "metadata": {
        "id": "u8fSfkTTxiC8"
      }
    },
    {
      "cell_type": "code",
      "source": [
        "lg = LinearRegression()\n",
        "lg.fit(X_train, y_train)"
      ],
      "metadata": {
        "colab": {
          "base_uri": "https://localhost:8080/"
        },
        "outputId": "5e76a510-309e-4e07-a3d5-06ab7f946b52",
        "id": "S2NtuKx7xiC8"
      },
      "execution_count": null,
      "outputs": [
        {
          "output_type": "execute_result",
          "data": {
            "text/plain": [
              "LinearRegression()"
            ]
          },
          "metadata": {},
          "execution_count": 34
        }
      ]
    },
    {
      "cell_type": "code",
      "source": [
        "pred = lg.predict(X_test)\n",
        "print(\"Mean Absolute Error - MAE : \" + str(mean_absolute_error(y_test, pred)))\n",
        "print(\"Root Mean squared Error - RMSE : \" + str(math.sqrt(mean_squared_error(y_test, pred))))"
      ],
      "metadata": {
        "colab": {
          "base_uri": "https://localhost:8080/"
        },
        "outputId": "aa1eb441-3b6a-4982-d0db-07baf1b21302",
        "id": "g1M5OjbgxiC9"
      },
      "execution_count": null,
      "outputs": [
        {
          "output_type": "stream",
          "name": "stdout",
          "text": [
            "Mean Absolute Error - MAE : 0.008330124409387551\n",
            "Root Mean squared Error - RMSE : 0.014978433607568098\n"
          ]
        }
      ]
    },
    {
      "cell_type": "code",
      "source": [],
      "metadata": {
        "id": "lBSS9v0lxiC9"
      },
      "execution_count": null,
      "outputs": []
    }
  ]
}